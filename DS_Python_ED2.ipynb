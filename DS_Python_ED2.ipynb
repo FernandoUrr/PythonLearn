{
 "cells": [
  {
   "cell_type": "markdown",
   "source": [
    "Pipelines de procesamiento de datos:\r\n",
    "Escalamiento Lineal\r\n",
    "1. ¿Por qué usarlos?: Eficientes ya que se encuentran entre el rango de [-1, 1]\r\n",
    "\r\n",
    "2. Hay diferentes tipos: max-min, Clipping, Z-score, Winsorizing, etc\r\n",
    "\r\n",
    "3. ¿Cuando usarlos?: Data simétrica o uniformemente distribuida\r\n",
    "\r\n",
    "-------------------------------------------------------------\r\n",
    "\r\n",
    "Tipos de escalamiento:\r\n",
    "\r\n",
    "1. min - max: X ---> Xs  <----> Fórmula: ((2x-min-max)/(max-min))\r\n",
    "\r\n",
    "2. Clipping: Fuerza a todos los datos por fuera a convertirse a los valores mínimos o máximos.\r\n",
    "\r\n",
    "3. Z-Score: \r\n",
    "[x1...xn] Esto consiste en volver los datos a la distribución normal estándar. Zx = (X-miu)/desvest() "
   ],
   "metadata": {}
  },
  {
   "cell_type": "markdown",
   "source": [
    "Transformaciones no lineales:\r\n",
    "1. ¿Por qué usarlos? \r\n",
    "Datos fuertemente sesgados, no simétricos.\r\n",
    "2. Hay diferentes tipos: Logarítmos, sigmoides, polinomiales, etc.\r\n",
    "3. ¿Cuando se usan? Antes de realizar el escalamiento lineal."
   ],
   "metadata": {}
  },
  {
   "cell_type": "code",
   "execution_count": 3,
   "source": [
    "#Importación de módulos importantes\r\n",
    "import pandas as pd\r\n",
    "import numpy as np \r\n",
    "import seaborn as sns\r\n",
    "import matplotlib.pyplot as plt"
   ],
   "outputs": [],
   "metadata": {}
  },
  {
   "cell_type": "code",
   "execution_count": 4,
   "source": [
    "import timeit\r\n",
    "from sklearn import datasets, linear_model\r\n",
    "X, y = datasets.load_diabetes(return_X_y=True)\r\n",
    "raw = X[:, None, 2]"
   ],
   "outputs": [],
   "metadata": {}
  },
  {
   "cell_type": "code",
   "execution_count": 5,
   "source": [
    "#Reglas de escalamientos\r\n",
    "max_raw = max(raw)\r\n",
    "min_raw = min(raw)\r\n",
    "scaled = (2*raw - max_raw - min_raw)/(max_raw - min_raw)"
   ],
   "outputs": [],
   "metadata": {}
  },
  {
   "cell_type": "code",
   "execution_count": 6,
   "source": [
    "#Creando una figura en matplotlib\r\n",
    "fig, axs = plt.subplots(2, 1, sharex= True)\r\n",
    "axs[0].hist(raw)\r\n",
    "axs[1].hist(scaled)"
   ],
   "outputs": [
    {
     "output_type": "execute_result",
     "data": {
      "text/plain": [
       "(array([32., 66., 98., 90., 64., 50., 23., 12.,  5.,  2.]),\n",
       " array([-1. , -0.8, -0.6, -0.4, -0.2,  0. ,  0.2,  0.4,  0.6,  0.8,  1. ]),\n",
       " <BarContainer object of 10 artists>)"
      ]
     },
     "metadata": {},
     "execution_count": 6
    },
    {
     "output_type": "display_data",
     "data": {
      "image/png": "[encoded data removed]",
      "text/plain": [
       "<Figure size 432x288 with 2 Axes>"
      ]
     },
     "metadata": {
      "needs_background": "light"
     }
    }
   ],
   "metadata": {}
  },
  {
   "cell_type": "code",
   "execution_count": 7,
   "source": [
    "#Modelos para entrenamiento\r\n",
    "def train_raw():\r\n",
    "    linear_model.LinearRegression().fit(raw, y)\r\n",
    "\r\n",
    "def train_scaled():\r\n",
    "    linear_model.LinearRegression().fit(scaled, y)"
   ],
   "outputs": [],
   "metadata": {}
  },
  {
   "cell_type": "code",
   "execution_count": 8,
   "source": [
    "raw_time = timeit.timeit(train_raw, number = 100)\r\n",
    "scaled_time = timeit.timeit(train_scaled, number = 100)\r\n",
    "print(f'train raw: {raw_time}')\r\n",
    "print(f'scaled raw: {scaled_time}')"
   ],
   "outputs": [
    {
     "output_type": "stream",
     "name": "stdout",
     "text": [
      "train raw: 0.054791099999988546\n",
      "scaled raw: 0.021021900000050664\n"
     ]
    }
   ],
   "metadata": {}
  },
  {
   "cell_type": "code",
   "execution_count": 18,
   "source": [
    "#Haciendo con el Z score, calculando las desviaciones y medias:\r\n",
    "mean_raw = raw.mean()\r\n",
    "sd_raw = np.sqrt(raw.var())\r\n",
    "\r\n",
    "scaledZ = (raw - mean_raw)/sd_raw"
   ],
   "outputs": [],
   "metadata": {}
  },
  {
   "cell_type": "code",
   "execution_count": 19,
   "source": [
    "#Graficando esta locura\r\n",
    "fig, axs = plt.subplots(2, 1, sharex= True)\r\n",
    "axs[0].hist(raw)\r\n",
    "axs[1].hist(scaledZ)"
   ],
   "outputs": [
    {
     "output_type": "execute_result",
     "data": {
      "text/plain": [
       "(array([32., 66., 98., 90., 64., 50., 23., 12.,  5.,  2.]),\n",
       " array([-1.89792941, -1.34956464, -0.80119987, -0.2528351 ,  0.29552967,\n",
       "         0.84389444,  1.39225921,  1.94062398,  2.48898875,  3.03735352,\n",
       "         3.58571828]),\n",
       " <BarContainer object of 10 artists>)"
      ]
     },
     "metadata": {},
     "execution_count": 19
    },
    {
     "output_type": "display_data",
     "data": {
      "image/png": "[encoded data removed]",
      "text/plain": [
       "<Figure size 432x288 with 2 Axes>"
      ]
     },
     "metadata": {
      "needs_background": "light"
     }
    }
   ],
   "metadata": {}
  },
  {
   "cell_type": "code",
   "execution_count": 20,
   "source": [
    "#Modelos para entrenamiento\r\n",
    "def train_raw():\r\n",
    "    linear_model.LinearRegression().fit(raw, y)\r\n",
    "\r\n",
    "def train_scaled():\r\n",
    "    linear_model.LinearRegression().fit(scaledZ, y)"
   ],
   "outputs": [],
   "metadata": {}
  },
  {
   "cell_type": "code",
   "execution_count": 22,
   "source": [
    "raw_time = timeit.timeit(train_raw, number = 1000)\r\n",
    "scaled_time = timeit.timeit(train_scaled, number = 1000)\r\n",
    "print(f'train raw: {raw_time}')\r\n",
    "print(f'scaled raw: {scaled_time}')"
   ],
   "outputs": [
    {
     "output_type": "stream",
     "name": "stdout",
     "text": [
      "train raw: 0.3114786000001004\n",
      "scaled raw: 0.19488499999988562\n"
     ]
    }
   ],
   "metadata": {}
  },
  {
   "cell_type": "markdown",
   "source": [
    "Ahora metiendonos con transformaciones no lineales, vamos a hacer esta vaina con tangente hiperbólica"
   ],
   "metadata": {}
  },
  {
   "cell_type": "code",
   "execution_count": 23,
   "source": [
    "df = pd.read_csv('cars.csv')"
   ],
   "outputs": [],
   "metadata": {}
  },
  {
   "cell_type": "code",
   "execution_count": 28,
   "source": [
    "df.price_usd.hist()"
   ],
   "outputs": [
    {
     "output_type": "execute_result",
     "data": {
      "text/plain": [
       "<AxesSubplot:>"
      ]
     },
     "metadata": {},
     "execution_count": 28
    },
    {
     "output_type": "display_data",
     "data": {
      "image/png": "[encoded data removed]",
      "text/plain": [
       "<Figure size 432x288 with 1 Axes>"
      ]
     },
     "metadata": {
      "needs_background": "light"
     }
    }
   ],
   "metadata": {}
  },
  {
   "cell_type": "code",
   "execution_count": 32,
   "source": [
    "p = 40232\r\n",
    "df.price_usd.apply(lambda x: np.tanh(x/p)).hist()"
   ],
   "outputs": [
    {
     "output_type": "execute_result",
     "data": {
      "text/plain": [
       "<AxesSubplot:>"
      ]
     },
     "metadata": {},
     "execution_count": 32
    },
    {
     "output_type": "display_data",
     "data": {
      "image/png": "[encoded data removed]",
      "text/plain": [
       "<Figure size 432x288 with 1 Axes>"
      ]
     },
     "metadata": {
      "needs_background": "light"
     }
    }
   ],
   "metadata": {}
  }
 ],
 "metadata": {
  "orig_nbformat": 4,
  "language_info": {
   "name": "python",
   "version": "3.9.6",
   "mimetype": "text/x-python",
   "codemirror_mode": {
    "name": "ipython",
    "version": 3
   },
   "pygments_lexer": "ipython3",
   "nbconvert_exporter": "python",
   "file_extension": ".py"
  },
  "kernelspec": {
   "name": "python3",
   "display_name": "Python 3.9.6 64-bit ('development_ve': venv)"
  },
  "interpreter": {
   "hash": "edb2973e90a2c18604a12e5652b706cbc7b8ccea7668873cba4a929b720797e1"
  }
 },
 "nbformat": 4,
 "nbformat_minor": 2
}