{
 "cells": [
  {
   "cell_type": "code",
   "execution_count": null,
   "source": [
    "def algo1():\r\n",
    "    pass\r\n",
    "\r\n",
    "def algo2():\r\n",
    "    pass\r\n",
    "\r\n",
    "def algo3():\r\n",
    "    pass\r\n",
    "\r\n",
    "function_list = [algo1, algo2, algo3]\r\n",
    "\r\n",
    "op = {j:i for j in range(1,4) for i in function_list}\r\n",
    "\r\n",
    "print(op)"
   ],
   "outputs": [],
   "metadata": {}
  }
 ],
 "metadata": {
  "orig_nbformat": 4,
  "language_info": {
   "name": "python",
   "version": "3.9.6",
   "mimetype": "text/x-python",
   "codemirror_mode": {
    "name": "ipython",
    "version": 3
   },
   "pygments_lexer": "ipython3",
   "nbconvert_exporter": "python",
   "file_extension": ".py"
  },
  "kernelspec": {
   "name": "python3",
   "display_name": "Python 3.9.6 64-bit"
  },
  "interpreter": {
   "hash": "6dd465f22ef364b2ded41fa0db8dd9476d9825bc6717d2951475032fef3b7d22"
  }
 },
 "nbformat": 4,
 "nbformat_minor": 2
}