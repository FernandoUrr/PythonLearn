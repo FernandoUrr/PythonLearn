{
 "cells": [
  {
   "cell_type": "markdown",
   "source": [
    "Pipline de procesamiento de datos categóricos:\r\n",
    "Las formas más naturales son:\r\n",
    "1. Dummy: Representación compacta y Mejor para inputs linealmente independientes.\r\n",
    "\r\n",
    "2. One Hot: Permite describir categorías no incluidas inicialmente."
   ],
   "metadata": {}
  }
 ],
 "metadata": {
  "orig_nbformat": 4,
  "language_info": {
   "name": "python",
   "version": "3.9.6"
  },
  "kernelspec": {
   "name": "python3",
   "display_name": "Python 3.9.6 64-bit ('development_ve': venv)"
  },
  "interpreter": {
   "hash": "edb2973e90a2c18604a12e5652b706cbc7b8ccea7668873cba4a929b720797e1"
  }
 },
 "nbformat": 4,
 "nbformat_minor": 2
}