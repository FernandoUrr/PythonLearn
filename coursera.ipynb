{
 "cells": [
  {
   "cell_type": "markdown",
   "source": [
    "# Coursera Python and ML Course"
   ],
   "metadata": {}
  },
  {
   "cell_type": "markdown",
   "source": [
    "## Consumption data\r\n",
    "\r\n",
    "### La fórmula de Haversine es la que tiene en cuenta el radio de la tierra para cálcular la distancia entre dos puntos."
   ],
   "metadata": {}
  },
  {
   "cell_type": "code",
   "execution_count": 3,
   "source": [
    "import numpy as np\r\n",
    "from math import radians\r\n",
    "from sklearn.metrics.pairwise import haversine_distances"
   ],
   "outputs": [],
   "metadata": {}
  },
  {
   "cell_type": "code",
   "execution_count": 4,
   "source": [
    "loc_1 = [40.758896, -73.985130]\r\n",
    "loc_2 = [40.8022, -73.9599]"
   ],
   "outputs": [],
   "metadata": {}
  },
  {
   "cell_type": "code",
   "execution_count": 9,
   "source": [
    "loc_1_rad = [radians(_) for _ in loc_1]\r\n",
    "loc_2_rad = [radians(_) for _ in loc_2]\r\n",
    "\r\n",
    "result = haversine_distances([loc_1_rad, loc_2_rad])\r\n",
    "result = result*(6371000/1000)\r\n",
    "result"
   ],
   "outputs": [
    {
     "output_type": "execute_result",
     "data": {
      "text/plain": [
       "array([[0.        , 5.26296451],\n",
       "       [5.26296451, 0.        ]])"
      ]
     },
     "metadata": {},
     "execution_count": 9
    }
   ],
   "metadata": {}
  },
  {
   "cell_type": "code",
   "execution_count": null,
   "source": [],
   "outputs": [],
   "metadata": {}
  }
 ],
 "metadata": {
  "orig_nbformat": 4,
  "language_info": {
   "name": "python",
   "version": "3.9.6",
   "mimetype": "text/x-python",
   "codemirror_mode": {
    "name": "ipython",
    "version": 3
   },
   "pygments_lexer": "ipython3",
   "nbconvert_exporter": "python",
   "file_extension": ".py"
  },
  "kernelspec": {
   "name": "python3",
   "display_name": "Python 3.9.6 64-bit ('development_ve': venv)"
  },
  "interpreter": {
   "hash": "edb2973e90a2c18604a12e5652b706cbc7b8ccea7668873cba4a929b720797e1"
  }
 },
 "nbformat": 4,
 "nbformat_minor": 2
}