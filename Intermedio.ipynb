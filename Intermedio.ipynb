{
  "nbformat": 4,
  "nbformat_minor": 2,
  "metadata": {
    "colab": {
      "name": "Intermedio.ipynb",
      "provenance": [],
      "collapsed_sections": []
    },
    "kernelspec": {
      "name": "python3",
      "display_name": "Python 3.9.6 64-bit ('development_ve': venv)"
    },
    "language_info": {
      "name": "python",
      "version": "3.9.6"
    },
    "interpreter": {
      "hash": "edb2973e90a2c18604a12e5652b706cbc7b8ccea7668873cba4a929b720797e1"
    }
  },
  "cells": [
    {
      "cell_type": "code",
      "execution_count": null,
      "source": [
        "DATA = [\r\n",
        "    {\r\n",
        "        'name': 'Facundo',\r\n",
        "        'age': 72,\r\n",
        "        'organization': 'Platzi',\r\n",
        "        'position': 'Technical Coach',\r\n",
        "        'language': 'python',\r\n",
        "    },\r\n",
        "    {\r\n",
        "        'name': 'Luisana',\r\n",
        "        'age': 33,\r\n",
        "        'organization': 'Globant',\r\n",
        "        'position': 'UX Designer',\r\n",
        "        'language': 'javascript',\r\n",
        "    },\r\n",
        "    {\r\n",
        "        'name': 'Héctor',\r\n",
        "        'age': 19,\r\n",
        "        'organization': 'Platzi',\r\n",
        "        'position': 'Associate',\r\n",
        "        'language': 'ruby',\r\n",
        "    },\r\n",
        "    {\r\n",
        "        'name': 'Gabriel',\r\n",
        "        'age': 20,\r\n",
        "        'organization': 'Platzi',\r\n",
        "        'position': 'Associate',\r\n",
        "        'language': 'javascript',\r\n",
        "    },\r\n",
        "    {\r\n",
        "        'name': 'Isabella',\r\n",
        "        'age': 30,\r\n",
        "        'organization': 'Platzi',\r\n",
        "        'position': 'QA Manager',\r\n",
        "        'language': 'java',\r\n",
        "    },\r\n",
        "    {\r\n",
        "        'name': 'Karo',\r\n",
        "        'age': 23,\r\n",
        "        'organization': 'Everis',\r\n",
        "        'position': 'Backend Developer',\r\n",
        "        'language': 'python',\r\n",
        "    },\r\n",
        "    {\r\n",
        "        'name': 'Ariel',\r\n",
        "        'age': 32,\r\n",
        "        'organization': 'Rappi',\r\n",
        "        'position': 'Support',\r\n",
        "        'language': '',\r\n",
        "    },\r\n",
        "    {\r\n",
        "        'name': 'Juan',\r\n",
        "        'age': 17,\r\n",
        "        'organization': '',\r\n",
        "        'position': 'Student',\r\n",
        "        'language': 'go',\r\n",
        "    },\r\n",
        "    {\r\n",
        "        'name': 'Pablo',\r\n",
        "        'age': 32,\r\n",
        "        'organization': 'Master',\r\n",
        "        'position': 'Human Resources Manager',\r\n",
        "        'language': 'python',\r\n",
        "    },\r\n",
        "    {\r\n",
        "        'name': 'Lorena',\r\n",
        "        'age': 56,\r\n",
        "        'organization': 'Python Organization',\r\n",
        "        'position': 'Language Maker',\r\n",
        "        'language': 'python',\r\n",
        "    },\r\n",
        "]\r\n"
      ],
      "outputs": [],
      "metadata": {
        "id": "BvgarZW0ssbL"
      }
    },
    {
      "cell_type": "code",
      "execution_count": null,
      "source": [
        "%pwd"
      ],
      "outputs": [
        {
          "output_type": "execute_result",
          "data": {
            "text/plain": [
              "'/content'"
            ],
            "application/vnd.google.colaboratory.intrinsic+json": {
              "type": "string"
            }
          },
          "metadata": {},
          "execution_count": 2
        }
      ],
      "metadata": {
        "colab": {
          "base_uri": "https://localhost:8080/",
          "height": 35
        },
        "id": "ChWaRD8ptOhl",
        "outputId": "07174853-f5b3-4cad-8e40-18c4ab71620a"
      }
    },
    {
      "cell_type": "code",
      "execution_count": null,
      "source": [
        "all_python_dev = [worker['name'] for worker in DATA if worker['language'] == 'python']\r\n",
        "all_Platzi_workers = [worker['name'] for worker in DATA if worker['organization'] == 'Platzi']\r\n",
        "#Usando filters, maps y reduces\r\n",
        "adults = list(filter(lambda worker: worker['age']>18, DATA))\r\n",
        "adults = list(map(lambda worker: worker['name'], adults))\r\n",
        "#Concatenando\r\n",
        "adults = list(map(lambda worker: worker['name'], list(filter(lambda worker: worker['age']>18, DATA))))\r\n",
        "adults"
      ],
      "outputs": [
        {
          "output_type": "execute_result",
          "data": {
            "text/plain": [
              "['Facundo',\n",
              " 'Luisana',\n",
              " 'Héctor',\n",
              " 'Gabriel',\n",
              " 'Isabella',\n",
              " 'Karo',\n",
              " 'Ariel',\n",
              " 'Pablo',\n",
              " 'Lorena']"
            ]
          },
          "metadata": {},
          "execution_count": 9
        }
      ],
      "metadata": {
        "colab": {
          "base_uri": "https://localhost:8080/"
        },
        "id": "x2oG3b2OtcjU",
        "outputId": "61c7ee85-fea1-44cb-97a9-d77141bd569e"
      }
    },
    {
      "cell_type": "code",
      "execution_count": null,
      "source": [
        "#Aquí estoy ingresando a mi diccionario unos valores diferentes, | este es un pipe que sirve para unir diccionarios. En python 3 hacia atrás, se debe hacer de la forma no comentada\r\n",
        "#old_people = list(map(lambda worker: worker | {old: worker['age']>70}, DATA))  #Correr en VSCode \r\n",
        "old_people = list(map(lambda worker: {**worker, ** {'old': worker['age']>70}}, DATA))\r\n",
        "old_people"
      ],
      "outputs": [],
      "metadata": {
        "id": "V-dzKCK_vNjn"
      }
    },
    {
      "cell_type": "code",
      "execution_count": null,
      "source": [
        "#Ahora haciendo lo contrario\r\n",
        "#all_python_dev = [worker['name'] for worker in DATA if worker['language'] == 'python']\r\n",
        "#all_Platzi_workers = [worker['name'] for worker in DATA if worker['organization'] == 'Platzi']\r\n",
        "#Usando filters, maps y reduces\r\n",
        "#adults = list(filter(lambda worker: worker['age']>18, DATA))\r\n",
        "#adults = list(map(lambda worker: worker['name'], adults))\r\n",
        "all_Platzi_workers = list(map(lambda worker: worker['name'], filter(lambda worker: worker['organization'] == 'Platzi', DATA)))\r\n",
        "all_python_dev = list(map(lambda worker: worker['name'],filter(lambda worker: worker['language'] == 'python',DATA)))\r\n",
        "print(all_python_dev, all_Platzi_workers)"
      ],
      "outputs": [
        {
          "output_type": "stream",
          "name": "stdout",
          "text": [
            "['Facundo', 'Karo', 'Pablo', 'Lorena'] ['Facundo', 'Héctor', 'Gabriel', 'Isabella']\n"
          ]
        }
      ],
      "metadata": {
        "colab": {
          "base_uri": "https://localhost:8080/"
        },
        "id": "y7wura5KwkAu",
        "outputId": "780ff838-cc64-440f-8131-51e910368bcc"
      }
    },
    {
      "cell_type": "code",
      "execution_count": null,
      "source": [
        "import sys\r\n",
        "print(sys.platform)"
      ],
      "outputs": [
        {
          "output_type": "stream",
          "name": "stdout",
          "text": [
            "linux\n"
          ]
        }
      ],
      "metadata": {
        "colab": {
          "base_uri": "https://localhost:8080/"
        },
        "id": "3VatgKIOzYLO",
        "outputId": "14170c70-5ff5-4a56-b864-e1719b595928"
      }
    },
    {
      "cell_type": "markdown",
      "source": [
        "Aquí se va a explicar como se tratarán los errores en python así como los distintos tipos de herramienta para el Debugging. "
      ],
      "metadata": {
        "id": "cUtefeS1EWiG"
      }
    },
    {
      "cell_type": "code",
      "execution_count": null,
      "source": [
        "#try and except\r\n",
        "def palindrome(string):\r\n",
        "  return string == string [::-1]\r\n",
        "\r\n",
        "try:\r\n",
        "  print(palindrome(1))\r\n",
        "except TypeError:\r\n",
        "  print('Solo se pueden ingresar strings')"
      ],
      "outputs": [
        {
          "output_type": "stream",
          "name": "stdout",
          "text": [
            "Solo se pueden ingresar strings\n"
          ]
        }
      ],
      "metadata": {
        "colab": {
          "base_uri": "https://localhost:8080/"
        },
        "id": "O-AGD0s89ewb",
        "outputId": "1a699bbf-1d3f-4471-c908-87c194b3559f"
      }
    },
    {
      "cell_type": "code",
      "execution_count": null,
      "source": [
        "def palindrome(string):\r\n",
        "  return string == string [::-1]\r\n",
        "\r\n",
        "try:\r\n",
        "  print(palindrome(\"\"))\r\n",
        "except TypeError:\r\n",
        "  print('Solo se pueden ingresar strings')"
      ],
      "outputs": [
        {
          "output_type": "stream",
          "name": "stdout",
          "text": [
            "True\n"
          ]
        }
      ],
      "metadata": {
        "colab": {
          "base_uri": "https://localhost:8080/"
        },
        "id": "Kv2GzrQEH_yw",
        "outputId": "40797fe2-70ab-4372-bc16-fd5bb9120cf3"
      }
    },
    {
      "cell_type": "code",
      "execution_count": null,
      "source": [
        "def palindrome(string):\r\n",
        "  try:\r\n",
        "    if len(string) == 0:\r\n",
        "      raise ValueError('No se puede ingresar una cadena vacía')\r\n",
        "    return string == string [::-1]\r\n",
        "  except ValueError as ve:\r\n",
        "    print(ve)\r\n",
        "    return False\r\n",
        "\r\n",
        "try:\r\n",
        "  print(palindrome(''))\r\n",
        "except TypeError:\r\n",
        "  print('Sólo se pueden ingresar strings')"
      ],
      "outputs": [
        {
          "output_type": "stream",
          "name": "stdout",
          "text": [
            "No se puede ingresar una cadena vacía\n",
            "False\n"
          ]
        }
      ],
      "metadata": {
        "colab": {
          "base_uri": "https://localhost:8080/"
        },
        "id": "_aAFEllGIJ1O",
        "outputId": "61738441-acb6-4030-a559-6d01e93dedf7"
      }
    },
    {
      "cell_type": "code",
      "execution_count": null,
      "source": [
        "#Poniendo a prueba el manejo de excepciones\r\n",
        "def divisors(num):\r\n",
        "  return [i for i in range(1, num+1) if num % i == 0]\r\n",
        "\r\n",
        "try:\r\n",
        "  num = int(input(\"Ingrese un numero pai: \"))\r\n",
        "  print(divisors(num))\r\n",
        "  print('Acabó el programa')\r\n",
        "except ValueError:\r\n",
        "  print('Debes infresar un número')\r\n"
      ],
      "outputs": [
        {
          "output_type": "stream",
          "name": "stdout",
          "text": [
            "Ingrese un numero pai: -10\n",
            "[]\n",
            "Acabó el programa\n"
          ]
        }
      ],
      "metadata": {
        "colab": {
          "base_uri": "https://localhost:8080/"
        },
        "id": "RnILr_riJo1N",
        "outputId": "bec3151f-7577-4495-912b-2f5488ea4975"
      }
    },
    {
      "cell_type": "code",
      "execution_count": null,
      "source": [
        "#Ahora mejorando un poco el programa\r\n",
        "def divisors(num):\r\n",
        "  try:\r\n",
        "    if num<=0:\r\n",
        "      raise ValueError(f'{num} es un número negativo, ingresa uno positivo por favor.')\r\n",
        "    return [i for i in range(1, num+1) if num % i == 0]\r\n",
        "  except ValueError as ve:\r\n",
        "    print(ve)\r\n",
        "    return print('Ajá pai, ingresa uno positivo eche')\r\n",
        "\r\n",
        "try:\r\n",
        "  num = int(input(\"Ingrese un numero pai: \"))\r\n",
        "  print(divisors(num))\r\n",
        "  print('Acabó el programa')\r\n",
        "except ValueError:\r\n",
        "  print('Debes infresar un número')"
      ],
      "outputs": [
        {
          "output_type": "stream",
          "name": "stdout",
          "text": [
            "Ingrese un numero pai: -5\n",
            "-5 es un número negativo, ingresa uno positivo por favor.\n",
            "Ajá pai, ingresa uno positivo eche\n",
            "None\n",
            "Acabó el programa\n"
          ]
        }
      ],
      "metadata": {
        "colab": {
          "base_uri": "https://localhost:8080/"
        },
        "id": "I2lRFzgKLFWz",
        "outputId": "16544a17-fca4-41d8-a071-50f66e28f36a"
      }
    },
    {
      "cell_type": "markdown",
      "source": [
        "Ahora se van a explicar o codificar los Assert Statements"
      ],
      "metadata": {
        "id": "YSf0xQ-SL13j"
      }
    },
    {
      "cell_type": "code",
      "execution_count": null,
      "source": [
        "# assert condicion, mensaje de error\r\n",
        "def palindrome(string):\r\n",
        "  assert len(string) > 0, 'No se puede ingresar una cadena vacía'\r\n",
        "  return string == string[::-1]\r\n",
        "\r\n",
        "print(palindrome('sss'))"
      ],
      "outputs": [],
      "metadata": {
        "id": "uYdrIaXxL7NI"
      }
    },
    {
      "cell_type": "code",
      "execution_count": null,
      "source": [
        "# Esto sirve principalmente para saber donde está la línea con el error. \r\n",
        "def divisors(num):\r\n",
        "  num = int(num)\r\n",
        "  return [i for i in range(1, num+1) if num % i == 0]\r\n",
        "\r\n",
        "\r\n",
        "num = input(\"Ingrese un numero pai: \")\r\n",
        "assert num.isnumeric(), 'Debes ingresar un numero'\r\n",
        "print(divisors(num))\r\n",
        "print('Acabó el programa')"
      ],
      "outputs": [],
      "metadata": {
        "id": "6_Jqss1QM32f"
      }
    },
    {
      "cell_type": "code",
      "execution_count": null,
      "source": [
        "# Esto sirve principalmente para saber donde está la línea con el error. \r\n",
        "def divisors(num):\r\n",
        "  return [i for i in range(1, num+1) if num % i == 0]\r\n",
        "\r\n",
        "\r\n",
        "num = int(input(\"Ingrese un numero pai: \"))\r\n",
        "#assert num.isnumeric(), 'Debes ingresar un numero'\r\n",
        "assert num>0, 'Debes ingresar un número positivo'\r\n",
        "print(divisors(num))\r\n",
        "print('Acabó el programa')"
      ],
      "outputs": [],
      "metadata": {
        "id": "yZsKwE7mNpSn"
      }
    },
    {
      "cell_type": "code",
      "execution_count": null,
      "source": [
        "!ls"
      ],
      "outputs": [
        {
          "output_type": "stream",
          "name": "stdout",
          "text": [
            "ds4a.csv  ds4a.ipynb  Intermedio.ipynb\tnumber.txt  Reto.ipynb\tUntitled0.ipynb\n"
          ]
        }
      ],
      "metadata": {
        "colab": {
          "base_uri": "https://localhost:8080/"
        },
        "id": "4trUT2UuPU_v",
        "outputId": "cd32059f-4319-473d-f017-70e25ec7b867"
      }
    },
    {
      "cell_type": "code",
      "execution_count": null,
      "source": [
        "ruta = %pwd\r\n",
        "with open('/content/drive/My Drive/Colab Notebooks/number.txt', 'r', encoding = 'utf-8') as f"
      ],
      "outputs": [
        {
          "output_type": "error",
          "ename": "SyntaxError",
          "evalue": "ignored",
          "traceback": [
            "\u001b[0;36m  File \u001b[0;32m\"<ipython-input-47-798934d9e1ad>\"\u001b[0;36m, line \u001b[0;32m2\u001b[0m\n\u001b[0;31m    with open('/content/drive/My Drive/Colab Notebooks/number.txt', 'r', encoding = 'utf-8') as f\u001b[0m\n\u001b[0m                                                                                                 ^\u001b[0m\n\u001b[0;31mSyntaxError\u001b[0m\u001b[0;31m:\u001b[0m invalid syntax\n"
          ]
        }
      ],
      "metadata": {
        "colab": {
          "base_uri": "https://localhost:8080/",
          "height": 129
        },
        "id": "pD18q8WpQdMq",
        "outputId": "a5aaa025-6aea-44e3-e54d-26c0d5a8fa6b"
      }
    }
  ]
}