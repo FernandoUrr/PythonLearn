{
  "nbformat": 4,
  "nbformat_minor": 0,
  "metadata": {
    "colab": {
      "name": "Intermedio.ipynb",
      "provenance": [],
      "collapsed_sections": []
    },
    "kernelspec": {
      "name": "python3",
      "display_name": "Python 3"
    },
    "language_info": {
      "name": "python"
    }
  },
  "cells": [
    {
      "cell_type": "code",
      "metadata": {
        "id": "BvgarZW0ssbL"
      },
      "source": [
        "DATA = [\n",
        "    {\n",
        "        'name': 'Facundo',\n",
        "        'age': 72,\n",
        "        'organization': 'Platzi',\n",
        "        'position': 'Technical Coach',\n",
        "        'language': 'python',\n",
        "    },\n",
        "    {\n",
        "        'name': 'Luisana',\n",
        "        'age': 33,\n",
        "        'organization': 'Globant',\n",
        "        'position': 'UX Designer',\n",
        "        'language': 'javascript',\n",
        "    },\n",
        "    {\n",
        "        'name': 'Héctor',\n",
        "        'age': 19,\n",
        "        'organization': 'Platzi',\n",
        "        'position': 'Associate',\n",
        "        'language': 'ruby',\n",
        "    },\n",
        "    {\n",
        "        'name': 'Gabriel',\n",
        "        'age': 20,\n",
        "        'organization': 'Platzi',\n",
        "        'position': 'Associate',\n",
        "        'language': 'javascript',\n",
        "    },\n",
        "    {\n",
        "        'name': 'Isabella',\n",
        "        'age': 30,\n",
        "        'organization': 'Platzi',\n",
        "        'position': 'QA Manager',\n",
        "        'language': 'java',\n",
        "    },\n",
        "    {\n",
        "        'name': 'Karo',\n",
        "        'age': 23,\n",
        "        'organization': 'Everis',\n",
        "        'position': 'Backend Developer',\n",
        "        'language': 'python',\n",
        "    },\n",
        "    {\n",
        "        'name': 'Ariel',\n",
        "        'age': 32,\n",
        "        'organization': 'Rappi',\n",
        "        'position': 'Support',\n",
        "        'language': '',\n",
        "    },\n",
        "    {\n",
        "        'name': 'Juan',\n",
        "        'age': 17,\n",
        "        'organization': '',\n",
        "        'position': 'Student',\n",
        "        'language': 'go',\n",
        "    },\n",
        "    {\n",
        "        'name': 'Pablo',\n",
        "        'age': 32,\n",
        "        'organization': 'Master',\n",
        "        'position': 'Human Resources Manager',\n",
        "        'language': 'python',\n",
        "    },\n",
        "    {\n",
        "        'name': 'Lorena',\n",
        "        'age': 56,\n",
        "        'organization': 'Python Organization',\n",
        "        'position': 'Language Maker',\n",
        "        'language': 'python',\n",
        "    },\n",
        "]\n"
      ],
      "execution_count": null,
      "outputs": []
    },
    {
      "cell_type": "code",
      "metadata": {
        "colab": {
          "base_uri": "https://localhost:8080/"
        },
        "id": "f89vwFyYQ91x",
        "outputId": "e36a972c-607f-45bc-b3f3-6716ad1b944a"
      },
      "source": [
        "from google.colab import drive\n",
        "drive.mount('/content/drive')\n",
        "%cd '/content/drive/My Drive/Colab Notebooks'"
      ],
      "execution_count": null,
      "outputs": [
        {
          "output_type": "stream",
          "name": "stdout",
          "text": [
            "Mounted at /content/drive\n",
            "/content/drive/My Drive/Colab Notebooks\n"
          ]
        }
      ]
    },
    {
      "cell_type": "code",
      "metadata": {
        "colab": {
          "base_uri": "https://localhost:8080/",
          "height": 35
        },
        "id": "ChWaRD8ptOhl",
        "outputId": "07174853-f5b3-4cad-8e40-18c4ab71620a"
      },
      "source": [
        "%pwd"
      ],
      "execution_count": null,
      "outputs": [
        {
          "output_type": "execute_result",
          "data": {
            "application/vnd.google.colaboratory.intrinsic+json": {
              "type": "string"
            },
            "text/plain": [
              "'/content'"
            ]
          },
          "metadata": {},
          "execution_count": 2
        }
      ]
    },
    {
      "cell_type": "code",
      "metadata": {
        "colab": {
          "base_uri": "https://localhost:8080/"
        },
        "id": "x2oG3b2OtcjU",
        "outputId": "61c7ee85-fea1-44cb-97a9-d77141bd569e"
      },
      "source": [
        "all_python_dev = [worker['name'] for worker in DATA if worker['language'] == 'python']\n",
        "all_Platzi_workers = [worker['name'] for worker in DATA if worker['organization'] == 'Platzi']\n",
        "#Usando filters, maps y reduces\n",
        "adults = list(filter(lambda worker: worker['age']>18, DATA))\n",
        "adults = list(map(lambda worker: worker['name'], adults))\n",
        "#Concatenando\n",
        "adults = list(map(lambda worker: worker['name'], list(filter(lambda worker: worker['age']>18, DATA))))\n",
        "adults"
      ],
      "execution_count": null,
      "outputs": [
        {
          "output_type": "execute_result",
          "data": {
            "text/plain": [
              "['Facundo',\n",
              " 'Luisana',\n",
              " 'Héctor',\n",
              " 'Gabriel',\n",
              " 'Isabella',\n",
              " 'Karo',\n",
              " 'Ariel',\n",
              " 'Pablo',\n",
              " 'Lorena']"
            ]
          },
          "metadata": {},
          "execution_count": 9
        }
      ]
    },
    {
      "cell_type": "code",
      "metadata": {
        "id": "V-dzKCK_vNjn"
      },
      "source": [
        "#Aquí estoy ingresando a mi diccionario unos valores diferentes, | este es un pipe que sirve para unir diccionarios. En python 3 hacia atrás, se debe hacer de la forma no comentada\n",
        "#old_people = list(map(lambda worker: worker | {old: worker['age']>70}, DATA))  #Correr en VSCode \n",
        "old_people = list(map(lambda worker: {**worker, ** {'old': worker['age']>70}}, DATA))\n",
        "old_people"
      ],
      "execution_count": null,
      "outputs": []
    },
    {
      "cell_type": "code",
      "metadata": {
        "colab": {
          "base_uri": "https://localhost:8080/"
        },
        "id": "y7wura5KwkAu",
        "outputId": "780ff838-cc64-440f-8131-51e910368bcc"
      },
      "source": [
        "#Ahora haciendo lo contrario\n",
        "#all_python_dev = [worker['name'] for worker in DATA if worker['language'] == 'python']\n",
        "#all_Platzi_workers = [worker['name'] for worker in DATA if worker['organization'] == 'Platzi']\n",
        "#Usando filters, maps y reduces\n",
        "#adults = list(filter(lambda worker: worker['age']>18, DATA))\n",
        "#adults = list(map(lambda worker: worker['name'], adults))\n",
        "all_Platzi_workers = list(map(lambda worker: worker['name'], filter(lambda worker: worker['organization'] == 'Platzi', DATA)))\n",
        "all_python_dev = list(map(lambda worker: worker['name'],filter(lambda worker: worker['language'] == 'python',DATA)))\n",
        "print(all_python_dev, all_Platzi_workers)"
      ],
      "execution_count": null,
      "outputs": [
        {
          "output_type": "stream",
          "name": "stdout",
          "text": [
            "['Facundo', 'Karo', 'Pablo', 'Lorena'] ['Facundo', 'Héctor', 'Gabriel', 'Isabella']\n"
          ]
        }
      ]
    },
    {
      "cell_type": "code",
      "metadata": {
        "colab": {
          "base_uri": "https://localhost:8080/"
        },
        "id": "3VatgKIOzYLO",
        "outputId": "14170c70-5ff5-4a56-b864-e1719b595928"
      },
      "source": [
        "import sys\n",
        "print(sys.platform)"
      ],
      "execution_count": null,
      "outputs": [
        {
          "output_type": "stream",
          "name": "stdout",
          "text": [
            "linux\n"
          ]
        }
      ]
    },
    {
      "cell_type": "markdown",
      "metadata": {
        "id": "cUtefeS1EWiG"
      },
      "source": [
        "Aquí se va a explicar como se tratarán los errores en python así como los distintos tipos de herramienta para el Debugging. "
      ]
    },
    {
      "cell_type": "code",
      "metadata": {
        "colab": {
          "base_uri": "https://localhost:8080/"
        },
        "id": "O-AGD0s89ewb",
        "outputId": "1a699bbf-1d3f-4471-c908-87c194b3559f"
      },
      "source": [
        "#try and except\n",
        "def palindrome(string):\n",
        "  return string == string [::-1]\n",
        "\n",
        "try:\n",
        "  print(palindrome(1))\n",
        "except TypeError:\n",
        "  print('Solo se pueden ingresar strings')"
      ],
      "execution_count": null,
      "outputs": [
        {
          "output_type": "stream",
          "name": "stdout",
          "text": [
            "Solo se pueden ingresar strings\n"
          ]
        }
      ]
    },
    {
      "cell_type": "code",
      "metadata": {
        "colab": {
          "base_uri": "https://localhost:8080/"
        },
        "id": "Kv2GzrQEH_yw",
        "outputId": "40797fe2-70ab-4372-bc16-fd5bb9120cf3"
      },
      "source": [
        "def palindrome(string):\n",
        "  return string == string [::-1]\n",
        "\n",
        "try:\n",
        "  print(palindrome(\"\"))\n",
        "except TypeError:\n",
        "  print('Solo se pueden ingresar strings')"
      ],
      "execution_count": null,
      "outputs": [
        {
          "output_type": "stream",
          "name": "stdout",
          "text": [
            "True\n"
          ]
        }
      ]
    },
    {
      "cell_type": "code",
      "metadata": {
        "colab": {
          "base_uri": "https://localhost:8080/"
        },
        "id": "_aAFEllGIJ1O",
        "outputId": "61738441-acb6-4030-a559-6d01e93dedf7"
      },
      "source": [
        "def palindrome(string):\n",
        "  try:\n",
        "    if len(string) == 0:\n",
        "      raise ValueError('No se puede ingresar una cadena vacía')\n",
        "    return string == string [::-1]\n",
        "  except ValueError as ve:\n",
        "    print(ve)\n",
        "    return False\n",
        "\n",
        "try:\n",
        "  print(palindrome(''))\n",
        "except TypeError:\n",
        "  print('Sólo se pueden ingresar strings')"
      ],
      "execution_count": null,
      "outputs": [
        {
          "output_type": "stream",
          "name": "stdout",
          "text": [
            "No se puede ingresar una cadena vacía\n",
            "False\n"
          ]
        }
      ]
    },
    {
      "cell_type": "code",
      "metadata": {
        "colab": {
          "base_uri": "https://localhost:8080/"
        },
        "id": "RnILr_riJo1N",
        "outputId": "bec3151f-7577-4495-912b-2f5488ea4975"
      },
      "source": [
        "#Poniendo a prueba el manejo de excepciones\n",
        "def divisors(num):\n",
        "  return [i for i in range(1, num+1) if num % i == 0]\n",
        "\n",
        "try:\n",
        "  num = int(input(\"Ingrese un numero pai: \"))\n",
        "  print(divisors(num))\n",
        "  print('Acabó el programa')\n",
        "except ValueError:\n",
        "  print('Debes infresar un número')\n"
      ],
      "execution_count": null,
      "outputs": [
        {
          "output_type": "stream",
          "name": "stdout",
          "text": [
            "Ingrese un numero pai: -10\n",
            "[]\n",
            "Acabó el programa\n"
          ]
        }
      ]
    },
    {
      "cell_type": "code",
      "metadata": {
        "colab": {
          "base_uri": "https://localhost:8080/"
        },
        "id": "I2lRFzgKLFWz",
        "outputId": "16544a17-fca4-41d8-a071-50f66e28f36a"
      },
      "source": [
        "#Ahora mejorando un poco el programa\n",
        "def divisors(num):\n",
        "  try:\n",
        "    if num<=0:\n",
        "      raise ValueError(f'{num} es un número negativo, ingresa uno positivo por favor.')\n",
        "    return [i for i in range(1, num+1) if num % i == 0]\n",
        "  except ValueError as ve:\n",
        "    print(ve)\n",
        "    return print('Ajá pai, ingresa uno positivo eche')\n",
        "\n",
        "try:\n",
        "  num = int(input(\"Ingrese un numero pai: \"))\n",
        "  print(divisors(num))\n",
        "  print('Acabó el programa')\n",
        "except ValueError:\n",
        "  print('Debes infresar un número')"
      ],
      "execution_count": null,
      "outputs": [
        {
          "output_type": "stream",
          "name": "stdout",
          "text": [
            "Ingrese un numero pai: -5\n",
            "-5 es un número negativo, ingresa uno positivo por favor.\n",
            "Ajá pai, ingresa uno positivo eche\n",
            "None\n",
            "Acabó el programa\n"
          ]
        }
      ]
    },
    {
      "cell_type": "markdown",
      "metadata": {
        "id": "YSf0xQ-SL13j"
      },
      "source": [
        "Ahora se van a explicar o codificar los Assert Statements"
      ]
    },
    {
      "cell_type": "code",
      "metadata": {
        "id": "uYdrIaXxL7NI"
      },
      "source": [
        "# assert condicion, mensaje de error\n",
        "def palindrome(string):\n",
        "  assert len(string) > 0, 'No se puede ingresar una cadena vacía'\n",
        "  return string == string[::-1]\n",
        "\n",
        "print(palindrome('sss'))"
      ],
      "execution_count": null,
      "outputs": []
    },
    {
      "cell_type": "code",
      "metadata": {
        "id": "6_Jqss1QM32f"
      },
      "source": [
        "# Esto sirve principalmente para saber donde está la línea con el error. \n",
        "def divisors(num):\n",
        "  num = int(num)\n",
        "  return [i for i in range(1, num+1) if num % i == 0]\n",
        "\n",
        "\n",
        "num = input(\"Ingrese un numero pai: \")\n",
        "assert num.isnumeric(), 'Debes ingresar un numero'\n",
        "print(divisors(num))\n",
        "print('Acabó el programa')"
      ],
      "execution_count": null,
      "outputs": []
    },
    {
      "cell_type": "code",
      "metadata": {
        "id": "yZsKwE7mNpSn"
      },
      "source": [
        "# Esto sirve principalmente para saber donde está la línea con el error. \n",
        "def divisors(num):\n",
        "  return [i for i in range(1, num+1) if num % i == 0]\n",
        "\n",
        "\n",
        "num = int(input(\"Ingrese un numero pai: \"))\n",
        "#assert num.isnumeric(), 'Debes ingresar un numero'\n",
        "assert num>0, 'Debes ingresar un número positivo'\n",
        "print(divisors(num))\n",
        "print('Acabó el programa')"
      ],
      "execution_count": null,
      "outputs": []
    },
    {
      "cell_type": "code",
      "metadata": {
        "colab": {
          "base_uri": "https://localhost:8080/"
        },
        "id": "4trUT2UuPU_v",
        "outputId": "cd32059f-4319-473d-f017-70e25ec7b867"
      },
      "source": [
        "!ls"
      ],
      "execution_count": null,
      "outputs": [
        {
          "output_type": "stream",
          "name": "stdout",
          "text": [
            "ds4a.csv  ds4a.ipynb  Intermedio.ipynb\tnumber.txt  Reto.ipynb\tUntitled0.ipynb\n"
          ]
        }
      ]
    },
    {
      "cell_type": "code",
      "metadata": {
        "colab": {
          "base_uri": "https://localhost:8080/",
          "height": 129
        },
        "id": "pD18q8WpQdMq",
        "outputId": "a5aaa025-6aea-44e3-e54d-26c0d5a8fa6b"
      },
      "source": [
        "ruta = %pwd\n",
        "with open('/content/drive/My Drive/Colab Notebooks/number.txt', 'r', encoding = 'utf-8') as f"
      ],
      "execution_count": null,
      "outputs": [
        {
          "output_type": "error",
          "ename": "SyntaxError",
          "evalue": "ignored",
          "traceback": [
            "\u001b[0;36m  File \u001b[0;32m\"<ipython-input-47-798934d9e1ad>\"\u001b[0;36m, line \u001b[0;32m2\u001b[0m\n\u001b[0;31m    with open('/content/drive/My Drive/Colab Notebooks/number.txt', 'r', encoding = 'utf-8') as f\u001b[0m\n\u001b[0m                                                                                                 ^\u001b[0m\n\u001b[0;31mSyntaxError\u001b[0m\u001b[0;31m:\u001b[0m invalid syntax\n"
          ]
        }
      ]
    }
  ]
}