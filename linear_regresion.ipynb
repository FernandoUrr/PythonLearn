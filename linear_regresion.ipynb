{
 "cells": [
  {
   "cell_type": "markdown",
   "source": [
    "Machine Learning:\r\n",
    "1. Observaciones etiquetadas\r\n",
    "2. Un set de entrenamiento\r\n",
    "3. Tener un set de prueba\r\n",
    "4. Machine Learner: Aprendizaje supervisado.\r\n",
    "5. Una vez entrenado, se usará como un modelo predictivo\r\n",
    "6. Estadísticos"
   ],
   "metadata": {}
  },
  {
   "cell_type": "markdown",
   "source": [
    "ML Supervisado:\r\n",
    "Existe regresión y clasificación\r\n",
    "\r\n",
    "Clasificación:\r\n",
    "1. Retención de clientes\r\n",
    "2. Diagnósticos\r\n",
    "3. Clasificación de imágenes\r\n",
    "\r\n",
    "Resumen: Módelos de regresión Lineal y regresión Logística."
   ],
   "metadata": {}
  },
  {
   "cell_type": "code",
   "execution_count": 1,
   "source": [
    "import numpy as np \r\n",
    "import matplotlib.pyplot as plt"
   ],
   "outputs": [],
   "metadata": {}
  },
  {
   "cell_type": "code",
   "execution_count": 2,
   "source": [
    "def estimate_b0_b1(x, y):\r\n",
    "    n = np.size(x)\r\n",
    "    #Sacamos los promedios de x e y\r\n",
    "    m_x, m_y = np.mean(x), np.mean(y)\r\n",
    "\r\n",
    "    #Calcular sumatoria de XY y mi sumatoria de XX\r\n",
    "    sum_xy = np.sum((x-m_x)*(y-m_y))\r\n",
    "    sum_xx = np.sum(x*(x-m_x))\r\n",
    "\r\n",
    "    #Coeficientes de regresión\r\n",
    "    b_1 = sum_xy/sum_xx\r\n",
    "    b_0 = m_y - b_1*m_x\r\n",
    "    return (b_0, b_1)  #print(f'Y = {b_1}X + {b_0}')\r\n",
    "\r\n",
    "#Función de graficado\r\n",
    "def plot_regresion(x, y, b):\r\n",
    "    plt.scatter(x, y,  color = 'g', marker = 'o', s = 30)\r\n",
    "\r\n",
    "    y_pred = b[0] + b[1]*x\r\n",
    "    plt.plot(x, y_pred, color = 'b')\r\n",
    "\r\n",
    "    #Etiquetado\r\n",
    "    plt.xlabel('x-Independiente')\r\n",
    "    plt.ylabel('y-Dependiente')\r\n",
    "    \r\n",
    "    plt.show()"
   ],
   "outputs": [],
   "metadata": {}
  },
  {
   "cell_type": "code",
   "execution_count": 6,
   "source": [
    "#Código Main\r\n",
    "def main():\r\n",
    "    x = np.array([1, 2, 3, 4, 5])\r\n",
    "    y = np.array([2, 3, 5, 6, 5])\r\n",
    "\r\n",
    "    #Obtenemos b1 y b2\r\n",
    "    b = estimate_b0_b1(x, y)\r\n",
    "    print(f'Y = {b[1]}X + {b[0]}')\r\n",
    "    plot_regresion(x, y, b)\r\n",
    "\r\n",
    "if __name__ == '__main__':\r\n",
    "    main()\r\n"
   ],
   "outputs": [
    {
     "output_type": "stream",
     "name": "stdout",
     "text": [
      "Y = 0.9X + 1.5\n"
     ]
    },
    {
     "output_type": "display_data",
     "data": {
      "image/png": "[encoded data removed]",
      "text/plain": [
       "<Figure size 432x288 with 1 Axes>"
      ]
     },
     "metadata": {
      "needs_background": "light"
     }
    }
   ],
   "metadata": {}
  }
 ],
 "metadata": {
  "orig_nbformat": 4,
  "language_info": {
   "name": "python",
   "version": "3.9.6",
   "mimetype": "text/x-python",
   "codemirror_mode": {
    "name": "ipython",
    "version": 3
   },
   "pygments_lexer": "ipython3",
   "nbconvert_exporter": "python",
   "file_extension": ".py"
  },
  "kernelspec": {
   "name": "python3",
   "display_name": "Python 3.9.6 64-bit ('development_ve': venv)"
  },
  "interpreter": {
   "hash": "edb2973e90a2c18604a12e5652b706cbc7b8ccea7668873cba4a929b720797e1"
  }
 },
 "nbformat": 4,
 "nbformat_minor": 2
}